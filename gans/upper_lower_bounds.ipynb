{
 "cells": [
  {
   "cell_type": "markdown",
   "metadata": {},
   "source": [
    "## import libraries"
   ]
  },
  {
   "cell_type": "code",
   "execution_count": 1,
   "metadata": {},
   "outputs": [
    {
     "name": "stdout",
     "output_type": "stream",
     "text": [
      "num GPUs 1\n"
     ]
    }
   ],
   "source": [
    "import matplotlib.pyplot as plt\n",
    "import os\n",
    "from PIL import Image\n",
    "import PIL\n",
    "import pywt\n",
    "import numpy as np\n",
    "import torch\n",
    "import torch.optim\n",
    "from torch.autograd import Variable\n",
    "\n",
    "GPU = True\n",
    "if GPU == True:\n",
    "    torch.backends.cudnn.enabled = True\n",
    "    torch.backends.cudnn.benchmark = True\n",
    "    dtype = torch.cuda.FloatTensor\n",
    "    os.environ['CUDA_VISIBLE_DEVICES'] = '0'\n",
    "    print(\"num GPUs\",torch.cuda.device_count())\n",
    "    device = 'cuda'\n",
    "    if torch.cuda.device_count()==0:\n",
    "        dtype = torch.FloatTensor\n",
    "        device = 'cpu'\n",
    "else:\n",
    "    dtype = torch.FloatTensor\n",
    "    device = 'cpu'\n",
    "    \n",
    "from scipy.fftpack import dct\n",
    "from scipy.fftpack import idct\n",
    "from scipy import io as sio \n",
    "import time\n",
    "import scipy.io as sio\n",
    "import torchvision.transforms as transforms\n",
    "from torchvision.datasets import MNIST\n",
    "from torchvision.datasets import CIFAR10\n",
    "#from torchvision.datasets import CELEBA"
   ]
  },
  {
   "cell_type": "markdown",
   "metadata": {},
   "source": [
    "# load previous experiment"
   ]
  },
  {
   "cell_type": "code",
   "execution_count": 2,
   "metadata": {},
   "outputs": [],
   "source": [
    "loadfile = True\n",
    "if loadfile:\n",
    "    plotvals_loaded = np.load('plotvals_500.npy')\n",
    "    [y1,y2,y3,y4,cy1,cy2,cy3,cy4] = plotvals_loaded"
   ]
  },
  {
   "cell_type": "markdown",
   "metadata": {},
   "source": [
    "## load generator pre-trained mnist network"
   ]
  },
  {
   "cell_type": "code",
   "execution_count": 3,
   "metadata": {},
   "outputs": [],
   "source": [
    "from dcgan import Generator\n",
    "G1 = Generator(ngpu=1).eval()\n",
    "# load weights\n",
    "G1.load_state_dict(torch.load('netG_epoch_99.pth'))\n",
    "if torch.cuda.is_available():\n",
    "    G1 = G1.cuda()"
   ]
  },
  {
   "cell_type": "code",
   "execution_count": 4,
   "metadata": {},
   "outputs": [
    {
     "data": {
      "text/plain": [
       "<matplotlib.image.AxesImage at 0x7f6be95e9400>"
      ]
     },
     "execution_count": 4,
     "metadata": {},
     "output_type": "execute_result"
    },
    {
     "data": {
      "image/png": "[encoded data removed]",
      "text/plain": [
       "<Figure size 432x288 with 1 Axes>"
      ]
     },
     "metadata": {
      "needs_background": "light"
     },
     "output_type": "display_data"
    }
   ],
   "source": [
    "batch_size = 1\n",
    "latent_size = 100\n",
    "z_true = Variable(torch.randn(batch_size,latent_size,1,1).cuda(), requires_grad=False)\n",
    "x_true = G1(z_true).cpu().detach().numpy().squeeze()\n",
    "plt.imshow(x_true,cmap=\"gray\")"
   ]
  },
  {
   "cell_type": "code",
   "execution_count": 5,
   "metadata": {},
   "outputs": [],
   "source": [
    "mc = 500\n",
    "#generate samples z\n",
    "batch_size = mc\n",
    "latent_size = 100\n",
    "z = Variable(torch.randn(batch_size,latent_size,1,1).cuda(), requires_grad=True)"
   ]
  },
  {
   "cell_type": "code",
   "execution_count": 6,
   "metadata": {},
   "outputs": [],
   "source": [
    "def dfdz(G,z):\n",
    "    f = G(z).view(-1)\n",
    "    k = z.view(-1).size()[0]\n",
    "    d = f.size()[0]\n",
    "    gradlist = torch.zeros([d,k],dtype=torch.float)\n",
    "    for i in range(d):\n",
    "        ff = f[i]\n",
    "        ff.backward(retain_graph=True)\n",
    "        gradlist[i,:] = z.grad.squeeze()\n",
    "        z.grad = torch.zeros_like(z.grad)\n",
    "    return gradlist # 784 \\times 100    "
   ]
  },
  {
   "cell_type": "code",
   "execution_count": 7,
   "metadata": {},
   "outputs": [],
   "source": [
    "def dfdz2(G,z): #alternate way to compute gradients - appears to give similar values\n",
    "    k = z.view(-1).size()[0]\n",
    "    f = G(z).view(-1)\n",
    "    \n",
    "    d = f.size()[0]\n",
    "    gradlist = torch.zeros([d,k],dtype=torch.float)\n",
    "    for i in range(d):\n",
    "        f = G(z).view(-1)\n",
    "        ff = f[i]\n",
    "        ff.backward()#(retain_graph=True)\n",
    "        gradlist[i,:] = z.grad.squeeze()\n",
    "        z.grad = torch.zeros_like(z.grad)\n",
    "    return gradlist # 784 \\times 100    "
   ]
  },
  {
   "cell_type": "code",
   "execution_count": 8,
   "metadata": {},
   "outputs": [],
   "source": [
    "if not loadfile:\n",
    "    y1 = []\n",
    "    y2 = []\n",
    "    latent_size = 100\n",
    "    for j in range(mc):\n",
    "        z_j = Variable(torch.randn(1,latent_size,1,1).cuda(), requires_grad=True)\n",
    "        dfmat = dfdz(G1,z_j).to('cuda')\n",
    "        inp1 = torch.matmul(dfmat.T,(G1(z_j).view(-1)-G1(z_true).view(-1)))\n",
    "        inp2 = torch.matmul(inp1.T,z_j.squeeze()-z_true.squeeze())\n",
    "        y1.append(inp2.detach().cpu().numpy())\n",
    "        normzdiff = torch.norm(z_j-z_true)**2\n",
    "        y2.append(normzdiff.detach().cpu().numpy())"
   ]
  },
  {
   "cell_type": "code",
   "execution_count": 9,
   "metadata": {},
   "outputs": [],
   "source": [
    "yy = []\n",
    "xx = []\n",
    "beta = 800\n",
    "alpha = 2\n",
    "for i in range(mc):\n",
    "    yy.append(y1[i])\n",
    "    xx.append(alpha*y2[i]- beta) "
   ]
  },
  {
   "cell_type": "code",
   "execution_count": 10,
   "metadata": {},
   "outputs": [
    {
     "data": {
      "text/plain": [
       "Text(0.5, 1.0, 'DCGAN(MNIST)')"
      ]
     },
     "execution_count": 10,
     "metadata": {},
     "output_type": "execute_result"
    },
    {
     "data": {
      "image/png": "[encoded data removed]",
      "text/plain": [
       "<Figure size 432x288 with 1 Axes>"
      ]
     },
     "metadata": {
      "needs_background": "light"
     },
     "output_type": "display_data"
    }
   ],
   "source": [
    "plt.scatter(xx,yy)\n",
    "plt.plot(xx,xx)\n",
    "plt.legend(['t1(ztrue,z)',str(alpha)+'*t2-'+str(beta)])\n",
    "plt.xlabel('t2(ztrue,z)')\n",
    "plt.title('DCGAN(MNIST)')"
   ]
  },
  {
   "cell_type": "code",
   "execution_count": 11,
   "metadata": {},
   "outputs": [],
   "source": [
    "if not loadfile:\n",
    "    y3 = []\n",
    "    y4 = []\n",
    "    latent_size = 100\n",
    "    for j in range(mc):\n",
    "        z_t = Variable(torch.randn(1,latent_size,1,1).cuda(), requires_grad=False)\n",
    "        z_j = Variable(torch.randn(1,latent_size,1,1).cuda(), requires_grad=True)\n",
    "        dfmat = dfdz(G1,z_j).to('cuda')\n",
    "        inp1 = torch.matmul(dfmat.T,(G1(z_j).view(-1)-G1(z_t).view(-1)))\n",
    "        inp2 = torch.matmul(inp1.T,z_j.squeeze()-z_t.squeeze())\n",
    "        y3.append(inp2.detach().cpu().numpy())\n",
    "        normzdiff = torch.norm(z_j-z_t)**2\n",
    "        y4.append(normzdiff.detach().cpu().numpy())"
   ]
  },
  {
   "cell_type": "code",
   "execution_count": 12,
   "metadata": {},
   "outputs": [],
   "source": [
    "yy = []\n",
    "xx = []\n",
    "beta = 800\n",
    "alpha = 2\n",
    "for i in range(mc):\n",
    "    yy.append(y3[i])\n",
    "    xx.append(alpha*y4[i]- beta) "
   ]
  },
  {
   "cell_type": "code",
   "execution_count": 13,
   "metadata": {},
   "outputs": [
    {
     "data": {
      "text/plain": [
       "Text(0.5, 1.0, 'DCGAN(MNIST)')"
      ]
     },
     "execution_count": 13,
     "metadata": {},
     "output_type": "execute_result"
    },
    {
     "data": {
      "image/png": "[encoded data removed]",
      "text/plain": [
       "<Figure size 432x288 with 1 Axes>"
      ]
     },
     "metadata": {
      "needs_background": "light"
     },
     "output_type": "display_data"
    }
   ],
   "source": [
    "plt.scatter(xx,yy)\n",
    "plt.plot(xx,xx)\n",
    "plt.legend(['t1(z1,z2)',str(alpha)+'*t2-'+str(beta)])\n",
    "plt.xlabel('t2(z1,z2)')\n",
    "plt.title('DCGAN(MNIST)')"
   ]
  },
  {
   "cell_type": "code",
   "execution_count": 14,
   "metadata": {},
   "outputs": [],
   "source": [
    "# check the inequality for random matrix A appended to G, over T trials"
   ]
  },
  {
   "cell_type": "code",
   "execution_count": 15,
   "metadata": {},
   "outputs": [
    {
     "name": "stdout",
     "output_type": "stream",
     "text": [
      "dimension of each image:784, number of samples per image:78\n"
     ]
    }
   ],
   "source": [
    "d = G1(z_true).nelement()\n",
    "n = int(0.1*d)\n",
    "print('dimension of each image:%d, number of samples per image:%d'%(d,n))"
   ]
  },
  {
   "cell_type": "code",
   "execution_count": 16,
   "metadata": {},
   "outputs": [
    {
     "name": "stdout",
     "output_type": "stream",
     "text": [
      "number of instances of sampling matrix A:5\n"
     ]
    }
   ],
   "source": [
    "T = 5\n",
    "print('number of instances of sampling matrix A:%d'%(T))"
   ]
  },
  {
   "cell_type": "code",
   "execution_count": 17,
   "metadata": {},
   "outputs": [],
   "source": [
    "#def forwardA\n",
    "def forwardA(x,A):\n",
    "    return torch.matmul(x.view(-1).type(dtype=torch.double),A.T)"
   ]
  },
  {
   "cell_type": "code",
   "execution_count": 18,
   "metadata": {},
   "outputs": [],
   "source": [
    "mc = 50\n",
    "#generate samples z\n",
    "batch_size = mc\n",
    "latent_size = 100\n",
    "z = Variable(torch.randn(batch_size,latent_size,1,1).cuda(), requires_grad=True)"
   ]
  },
  {
   "cell_type": "code",
   "execution_count": 19,
   "metadata": {},
   "outputs": [],
   "source": [
    "loadfileA = False"
   ]
  },
  {
   "cell_type": "code",
   "execution_count": 20,
   "metadata": {},
   "outputs": [
    {
     "name": "stdout",
     "output_type": "stream",
     "text": [
      "T:1/5\n",
      "mc:1/50\n",
      "mc:2/50\n",
      "mc:3/50\n",
      "mc:4/50\n",
      "mc:5/50\n",
      "mc:6/50\n",
      "mc:7/50\n",
      "mc:8/50\n",
      "mc:9/50\n",
      "mc:10/50\n",
      "mc:11/50\n",
      "mc:12/50\n",
      "mc:13/50\n",
      "mc:14/50\n",
      "mc:15/50\n",
      "mc:16/50\n",
      "mc:17/50\n",
      "mc:18/50\n",
      "mc:19/50\n",
      "mc:20/50\n",
      "mc:21/50\n",
      "mc:22/50\n",
      "mc:23/50\n",
      "mc:24/50\n",
      "mc:25/50\n",
      "mc:26/50\n",
      "mc:27/50\n",
      "mc:28/50\n",
      "mc:29/50\n",
      "mc:30/50\n",
      "mc:31/50\n",
      "mc:32/50\n",
      "mc:33/50\n",
      "mc:34/50\n",
      "mc:35/50\n",
      "mc:36/50\n",
      "mc:37/50\n",
      "mc:38/50\n",
      "mc:39/50\n",
      "mc:40/50\n",
      "mc:41/50\n",
      "mc:42/50\n",
      "mc:43/50\n",
      "mc:44/50\n",
      "mc:45/50\n",
      "mc:46/50\n",
      "mc:47/50\n",
      "mc:48/50\n",
      "mc:49/50\n",
      "mc:50/50\n",
      "T:2/5\n",
      "mc:1/50\n",
      "mc:2/50\n",
      "mc:3/50\n",
      "mc:4/50\n",
      "mc:5/50\n",
      "mc:6/50\n",
      "mc:7/50\n",
      "mc:8/50\n",
      "mc:9/50\n",
      "mc:10/50\n",
      "mc:11/50\n",
      "mc:12/50\n",
      "mc:13/50\n",
      "mc:14/50\n",
      "mc:15/50\n",
      "mc:16/50\n",
      "mc:17/50\n",
      "mc:18/50\n",
      "mc:19/50\n",
      "mc:20/50\n",
      "mc:21/50\n",
      "mc:22/50\n",
      "mc:23/50\n",
      "mc:24/50\n",
      "mc:25/50\n",
      "mc:26/50\n",
      "mc:27/50\n",
      "mc:28/50\n",
      "mc:29/50\n",
      "mc:30/50\n",
      "mc:31/50\n",
      "mc:32/50\n",
      "mc:33/50\n",
      "mc:34/50\n",
      "mc:35/50\n",
      "mc:36/50\n",
      "mc:37/50\n",
      "mc:38/50\n",
      "mc:39/50\n",
      "mc:40/50\n",
      "mc:41/50\n",
      "mc:42/50\n",
      "mc:43/50\n",
      "mc:44/50\n",
      "mc:45/50\n",
      "mc:46/50\n",
      "mc:47/50\n",
      "mc:48/50\n",
      "mc:49/50\n",
      "mc:50/50\n",
      "T:3/5\n",
      "mc:1/50\n",
      "mc:2/50\n",
      "mc:3/50\n",
      "mc:4/50\n",
      "mc:5/50\n",
      "mc:6/50\n",
      "mc:7/50\n",
      "mc:8/50\n",
      "mc:9/50\n",
      "mc:10/50\n",
      "mc:11/50\n",
      "mc:12/50\n",
      "mc:13/50\n",
      "mc:14/50\n",
      "mc:15/50\n",
      "mc:16/50\n",
      "mc:17/50\n",
      "mc:18/50\n",
      "mc:19/50\n",
      "mc:20/50\n",
      "mc:21/50\n",
      "mc:22/50\n",
      "mc:23/50\n",
      "mc:24/50\n",
      "mc:25/50\n",
      "mc:26/50\n",
      "mc:27/50\n",
      "mc:28/50\n",
      "mc:29/50\n",
      "mc:30/50\n",
      "mc:31/50\n",
      "mc:32/50\n",
      "mc:33/50\n",
      "mc:34/50\n",
      "mc:35/50\n",
      "mc:36/50\n",
      "mc:37/50\n",
      "mc:38/50\n",
      "mc:39/50\n",
      "mc:40/50\n",
      "mc:41/50\n",
      "mc:42/50\n",
      "mc:43/50\n",
      "mc:44/50\n",
      "mc:45/50\n",
      "mc:46/50\n",
      "mc:47/50\n",
      "mc:48/50\n",
      "mc:49/50\n",
      "mc:50/50\n",
      "T:4/5\n",
      "mc:1/50\n",
      "mc:2/50\n",
      "mc:3/50\n",
      "mc:4/50\n",
      "mc:5/50\n",
      "mc:6/50\n",
      "mc:7/50\n",
      "mc:8/50\n",
      "mc:9/50\n",
      "mc:10/50\n",
      "mc:11/50\n",
      "mc:12/50\n",
      "mc:13/50\n",
      "mc:14/50\n",
      "mc:15/50\n",
      "mc:16/50\n",
      "mc:17/50\n",
      "mc:18/50\n",
      "mc:19/50\n",
      "mc:20/50\n",
      "mc:21/50\n",
      "mc:22/50\n",
      "mc:23/50\n",
      "mc:24/50\n",
      "mc:25/50\n",
      "mc:26/50\n",
      "mc:27/50\n",
      "mc:28/50\n",
      "mc:29/50\n",
      "mc:30/50\n",
      "mc:31/50\n",
      "mc:32/50\n",
      "mc:33/50\n",
      "mc:34/50\n",
      "mc:35/50\n",
      "mc:36/50\n",
      "mc:37/50\n",
      "mc:38/50\n",
      "mc:39/50\n",
      "mc:40/50\n",
      "mc:41/50\n",
      "mc:42/50\n",
      "mc:43/50\n",
      "mc:44/50\n",
      "mc:45/50\n",
      "mc:46/50\n",
      "mc:47/50\n",
      "mc:48/50\n",
      "mc:49/50\n",
      "mc:50/50\n",
      "T:5/5\n",
      "mc:1/50\n",
      "mc:2/50\n",
      "mc:3/50\n",
      "mc:4/50\n",
      "mc:5/50\n",
      "mc:6/50\n",
      "mc:7/50\n",
      "mc:8/50\n",
      "mc:9/50\n",
      "mc:10/50\n",
      "mc:11/50\n",
      "mc:12/50\n",
      "mc:13/50\n",
      "mc:14/50\n",
      "mc:15/50\n",
      "mc:16/50\n",
      "mc:17/50\n",
      "mc:18/50\n",
      "mc:19/50\n",
      "mc:20/50\n",
      "mc:21/50\n",
      "mc:22/50\n",
      "mc:23/50\n",
      "mc:24/50\n",
      "mc:25/50\n",
      "mc:26/50\n",
      "mc:27/50\n",
      "mc:28/50\n",
      "mc:29/50\n",
      "mc:30/50\n",
      "mc:31/50\n",
      "mc:32/50\n",
      "mc:33/50\n",
      "mc:34/50\n",
      "mc:35/50\n",
      "mc:36/50\n",
      "mc:37/50\n",
      "mc:38/50\n",
      "mc:39/50\n",
      "mc:40/50\n",
      "mc:41/50\n",
      "mc:42/50\n",
      "mc:43/50\n",
      "mc:44/50\n",
      "mc:45/50\n",
      "mc:46/50\n",
      "mc:47/50\n",
      "mc:48/50\n",
      "mc:49/50\n",
      "mc:50/50\n"
     ]
    }
   ],
   "source": [
    "if not loadfileA:\n",
    "    y5 = []\n",
    "    y6 = []\n",
    "    for k in range(T):\n",
    "        print('T:%d/%d'%(k+1,T))\n",
    "        A = torch.tensor(np.random.randn(n,d)/np.sqrt(n)).to('cuda')\n",
    "\n",
    "        for j in range(mc):\n",
    "            print('mc:%d/%d'%(j+1,mc))\n",
    "            z_j = Variable(torch.randn(1,latent_size,1,1).cuda(), requires_grad=True)\n",
    "            dfmat = dfdz(G1,z_j).to('cuda')\n",
    "            Adfmat = torch.matmul(A,dfmat.type(dtype=torch.double))\n",
    "            AGdiff = forwardA((G1(z_j).view(-1)-G1(z_true).view(-1)),A)\n",
    "            inp1 = torch.matmul(Adfmat.T,AGdiff).type(dtype=torch.float)\n",
    "            inp2 = torch.matmul(inp1.T,z_j.squeeze()-z_true.squeeze())\n",
    "            y5.append(inp2.detach().cpu().numpy())\n",
    "            normzdiff = torch.norm(z_j-z_true)**2\n",
    "            y6.append(normzdiff.detach().cpu().numpy())"
   ]
  },
  {
   "cell_type": "code",
   "execution_count": 21,
   "metadata": {},
   "outputs": [],
   "source": [
    "yy = []\n",
    "xx = []\n",
    "alpha = 1.5\n",
    "beta = 1000\n",
    "for i in range(mc*T):\n",
    "    yy.append(y5[i])\n",
    "    xx.append(alpha*y6[i]- beta) "
   ]
  },
  {
   "cell_type": "code",
   "execution_count": 22,
   "metadata": {},
   "outputs": [
    {
     "data": {
      "text/plain": [
       "Text(0.5, 1.0, 'DCGAN(MNIST)')"
      ]
     },
     "execution_count": 22,
     "metadata": {},
     "output_type": "execute_result"
    },
    {
     "data": {
      "image/png": "[encoded data removed]",
      "text/plain": [
       "<Figure size 432x288 with 1 Axes>"
      ]
     },
     "metadata": {
      "needs_background": "light"
     },
     "output_type": "display_data"
    }
   ],
   "source": [
    "plt.scatter(xx,yy)\n",
    "plt.plot(xx,xx)\n",
    "plt.legend(['t3(ztrue,z)',str(alpha)+'*t2-'+str(beta)])\n",
    "plt.xlabel('t3(ztrue,z)')\n",
    "plt.title('DCGAN(MNIST)')"
   ]
  },
  {
   "cell_type": "code",
   "execution_count": 23,
   "metadata": {},
   "outputs": [
    {
     "name": "stdout",
     "output_type": "stream",
     "text": [
      "1/5\n",
      "mc:1/50\n",
      "mc:2/50\n",
      "mc:3/50\n",
      "mc:4/50\n",
      "mc:5/50\n",
      "mc:6/50\n",
      "mc:7/50\n",
      "mc:8/50\n",
      "mc:9/50\n",
      "mc:10/50\n",
      "mc:11/50\n",
      "mc:12/50\n",
      "mc:13/50\n",
      "mc:14/50\n",
      "mc:15/50\n",
      "mc:16/50\n",
      "mc:17/50\n",
      "mc:18/50\n",
      "mc:19/50\n",
      "mc:20/50\n",
      "mc:21/50\n",
      "mc:22/50\n",
      "mc:23/50\n",
      "mc:24/50\n",
      "mc:25/50\n",
      "mc:26/50\n",
      "mc:27/50\n",
      "mc:28/50\n",
      "mc:29/50\n",
      "mc:30/50\n",
      "mc:31/50\n",
      "mc:32/50\n",
      "mc:33/50\n",
      "mc:34/50\n",
      "mc:35/50\n",
      "mc:36/50\n",
      "mc:37/50\n",
      "mc:38/50\n",
      "mc:39/50\n",
      "mc:40/50\n",
      "mc:41/50\n",
      "mc:42/50\n",
      "mc:43/50\n",
      "mc:44/50\n",
      "mc:45/50\n",
      "mc:46/50\n",
      "mc:47/50\n",
      "mc:48/50\n",
      "mc:49/50\n",
      "mc:50/50\n",
      "2/5\n",
      "mc:1/50\n",
      "mc:2/50\n",
      "mc:3/50\n",
      "mc:4/50\n",
      "mc:5/50\n",
      "mc:6/50\n",
      "mc:7/50\n",
      "mc:8/50\n",
      "mc:9/50\n",
      "mc:10/50\n",
      "mc:11/50\n",
      "mc:12/50\n",
      "mc:13/50\n",
      "mc:14/50\n",
      "mc:15/50\n",
      "mc:16/50\n",
      "mc:17/50\n",
      "mc:18/50\n",
      "mc:19/50\n",
      "mc:20/50\n",
      "mc:21/50\n",
      "mc:22/50\n",
      "mc:23/50\n",
      "mc:24/50\n",
      "mc:25/50\n",
      "mc:26/50\n",
      "mc:27/50\n",
      "mc:28/50\n",
      "mc:29/50\n",
      "mc:30/50\n",
      "mc:31/50\n",
      "mc:32/50\n",
      "mc:33/50\n",
      "mc:34/50\n",
      "mc:35/50\n",
      "mc:36/50\n",
      "mc:37/50\n",
      "mc:38/50\n",
      "mc:39/50\n",
      "mc:40/50\n",
      "mc:41/50\n",
      "mc:42/50\n",
      "mc:43/50\n",
      "mc:44/50\n",
      "mc:45/50\n",
      "mc:46/50\n",
      "mc:47/50\n",
      "mc:48/50\n",
      "mc:49/50\n",
      "mc:50/50\n",
      "3/5\n",
      "mc:1/50\n",
      "mc:2/50\n",
      "mc:3/50\n",
      "mc:4/50\n",
      "mc:5/50\n",
      "mc:6/50\n",
      "mc:7/50\n",
      "mc:8/50\n",
      "mc:9/50\n",
      "mc:10/50\n",
      "mc:11/50\n",
      "mc:12/50\n",
      "mc:13/50\n",
      "mc:14/50\n",
      "mc:15/50\n",
      "mc:16/50\n",
      "mc:17/50\n",
      "mc:18/50\n",
      "mc:19/50\n",
      "mc:20/50\n",
      "mc:21/50\n",
      "mc:22/50\n",
      "mc:23/50\n",
      "mc:24/50\n",
      "mc:25/50\n",
      "mc:26/50\n",
      "mc:27/50\n",
      "mc:28/50\n",
      "mc:29/50\n",
      "mc:30/50\n",
      "mc:31/50\n",
      "mc:32/50\n",
      "mc:33/50\n",
      "mc:34/50\n",
      "mc:35/50\n",
      "mc:36/50\n",
      "mc:37/50\n",
      "mc:38/50\n",
      "mc:39/50\n",
      "mc:40/50\n",
      "mc:41/50\n",
      "mc:42/50\n",
      "mc:43/50\n",
      "mc:44/50\n",
      "mc:45/50\n",
      "mc:46/50\n",
      "mc:47/50\n",
      "mc:48/50\n",
      "mc:49/50\n",
      "mc:50/50\n",
      "4/5\n",
      "mc:1/50\n",
      "mc:2/50\n",
      "mc:3/50\n",
      "mc:4/50\n",
      "mc:5/50\n",
      "mc:6/50\n",
      "mc:7/50\n",
      "mc:8/50\n",
      "mc:9/50\n",
      "mc:10/50\n",
      "mc:11/50\n",
      "mc:12/50\n",
      "mc:13/50\n",
      "mc:14/50\n",
      "mc:15/50\n",
      "mc:16/50\n",
      "mc:17/50\n",
      "mc:18/50\n",
      "mc:19/50\n",
      "mc:20/50\n",
      "mc:21/50\n",
      "mc:22/50\n",
      "mc:23/50\n",
      "mc:24/50\n",
      "mc:25/50\n",
      "mc:26/50\n",
      "mc:27/50\n",
      "mc:28/50\n",
      "mc:29/50\n",
      "mc:30/50\n",
      "mc:31/50\n",
      "mc:32/50\n",
      "mc:33/50\n",
      "mc:34/50\n",
      "mc:35/50\n",
      "mc:36/50\n",
      "mc:37/50\n",
      "mc:38/50\n",
      "mc:39/50\n",
      "mc:40/50\n",
      "mc:41/50\n",
      "mc:42/50\n",
      "mc:43/50\n",
      "mc:44/50\n",
      "mc:45/50\n",
      "mc:46/50\n",
      "mc:47/50\n",
      "mc:48/50\n",
      "mc:49/50\n",
      "mc:50/50\n",
      "5/5\n",
      "mc:1/50\n",
      "mc:2/50\n",
      "mc:3/50\n",
      "mc:4/50\n",
      "mc:5/50\n",
      "mc:6/50\n",
      "mc:7/50\n",
      "mc:8/50\n",
      "mc:9/50\n",
      "mc:10/50\n",
      "mc:11/50\n",
      "mc:12/50\n",
      "mc:13/50\n",
      "mc:14/50\n",
      "mc:15/50\n",
      "mc:16/50\n",
      "mc:17/50\n",
      "mc:18/50\n",
      "mc:19/50\n",
      "mc:20/50\n",
      "mc:21/50\n",
      "mc:22/50\n",
      "mc:23/50\n",
      "mc:24/50\n",
      "mc:25/50\n",
      "mc:26/50\n",
      "mc:27/50\n",
      "mc:28/50\n",
      "mc:29/50\n",
      "mc:30/50\n",
      "mc:31/50\n",
      "mc:32/50\n",
      "mc:33/50\n",
      "mc:34/50\n",
      "mc:35/50\n",
      "mc:36/50\n",
      "mc:37/50\n",
      "mc:38/50\n",
      "mc:39/50\n",
      "mc:40/50\n",
      "mc:41/50\n",
      "mc:42/50\n",
      "mc:43/50\n",
      "mc:44/50\n",
      "mc:45/50\n",
      "mc:46/50\n",
      "mc:47/50\n",
      "mc:48/50\n",
      "mc:49/50\n",
      "mc:50/50\n"
     ]
    }
   ],
   "source": [
    "if not loadfileA:\n",
    "    y7 = []\n",
    "    y8 = []\n",
    "    for k in range(T):\n",
    "        print('%d/%d'%(k+1,T))\n",
    "        A = torch.tensor(np.random.randn(n,d)/np.sqrt(n)).to('cuda')\n",
    "\n",
    "        for j in range(mc):\n",
    "            print('mc:%d/%d'%(j+1,mc))\n",
    "            z_t = Variable(torch.randn(1,latent_size,1,1).cuda(), requires_grad=False)\n",
    "            z_j = Variable(torch.randn(1,latent_size,1,1).cuda(), requires_grad=True)\n",
    "            dfmat = dfdz(G1,z_j).to('cuda')\n",
    "            Adfmat = torch.matmul(A,dfmat.type(dtype=torch.double))\n",
    "            AGdiff = forwardA((G1(z_j).view(-1)-G1(z_t).view(-1)),A)\n",
    "            \n",
    "            inp1 = torch.matmul(Adfmat.T,AGdiff).type(dtype=torch.float)\n",
    "            inp2 = torch.matmul(inp1.T,z_j.squeeze()-z_t.squeeze())\n",
    "            y7.append(inp2.detach().cpu().numpy())\n",
    "            normzdiff = torch.norm(z_j-z_t)**2\n",
    "            y8.append(normzdiff.detach().cpu().numpy())"
   ]
  },
  {
   "cell_type": "code",
   "execution_count": 24,
   "metadata": {},
   "outputs": [],
   "source": [
    "yy = []\n",
    "xx = []\n",
    "alpha = 2\n",
    "beta = 750\n",
    "for i in range(mc):\n",
    "    yy.append(y7[i])\n",
    "    xx.append(alpha*y8[i]- beta) "
   ]
  },
  {
   "cell_type": "code",
   "execution_count": 25,
   "metadata": {},
   "outputs": [
    {
     "data": {
      "text/plain": [
       "Text(0.5, 1.0, 'DCGAN(MNIST)')"
      ]
     },
     "execution_count": 25,
     "metadata": {},
     "output_type": "execute_result"
    },
    {
     "data": {
      "image/png": "[encoded data removed]",
      "text/plain": [
       "<Figure size 432x288 with 1 Axes>"
      ]
     },
     "metadata": {
      "needs_background": "light"
     },
     "output_type": "display_data"
    }
   ],
   "source": [
    "plt.scatter(xx,yy)\n",
    "plt.plot(xx,xx)\n",
    "plt.legend(['t3(z1,z2)',str(alpha)+'*t2-'+str(beta)])\n",
    "plt.xlabel('t3(z1,z2)')\n",
    "plt.title('DCGAN(MNIST)')"
   ]
  },
  {
   "cell_type": "code",
   "execution_count": 26,
   "metadata": {},
   "outputs": [],
   "source": [
    "if not loadfileA:\n",
    "    plotvals = [y5,y6,y7,y8]\n",
    "    np.save('plotvalsA_mnist_250.npy',plotvals)"
   ]
  },
  {
   "cell_type": "markdown",
   "metadata": {},
   "source": [
    "# load generator pre-trained network for cifar"
   ]
  },
  {
   "cell_type": "code",
   "execution_count": 27,
   "metadata": {},
   "outputs": [],
   "source": [
    "from dcgan_cifar import Generator\n",
    "G2 = Generator(ngpu=1).eval()\n",
    "# load weights\n",
    "G2.load_state_dict(torch.load('netG_epoch_199_cifar.pth'))\n",
    "if torch.cuda.is_available():\n",
    "    G2 = G2.cuda()"
   ]
  },
  {
   "cell_type": "code",
   "execution_count": 28,
   "metadata": {},
   "outputs": [
    {
     "name": "stderr",
     "output_type": "stream",
     "text": [
      "Clipping input data to the valid range for imshow with RGB data ([0..1] for floats or [0..255] for integers).\n"
     ]
    },
    {
     "data": {
      "text/plain": [
       "<matplotlib.image.AxesImage at 0x7f6be8edd6d8>"
      ]
     },
     "execution_count": 28,
     "metadata": {},
     "output_type": "execute_result"
    },
    {
     "data": {
      "image/png": "[encoded data removed]",
      "text/plain": [
       "<Figure size 432x288 with 1 Axes>"
      ]
     },
     "metadata": {
      "needs_background": "light"
     },
     "output_type": "display_data"
    }
   ],
   "source": [
    "batch_size = 1\n",
    "latent_size = 100\n",
    "z_true = Variable(torch.randn(batch_size,latent_size,1,1).cuda(), requires_grad=False)\n",
    "x_true = G2(z_true).cpu().detach().numpy().squeeze()\n",
    "plt.imshow(x_true.transpose(1, 2, 0))"
   ]
  },
  {
   "cell_type": "code",
   "execution_count": 29,
   "metadata": {},
   "outputs": [],
   "source": [
    "mc = 500\n",
    "#generate samples z\n",
    "batch_size = mc\n",
    "latent_size = 100\n",
    "z = Variable(torch.randn(batch_size,latent_size,1,1).cuda(), requires_grad=True)"
   ]
  },
  {
   "cell_type": "code",
   "execution_count": null,
   "metadata": {},
   "outputs": [],
   "source": [
    "if not loadfile:\n",
    "    cy1 = []\n",
    "    cy2 = []\n",
    "    latent_size = 100\n",
    "    for j in range(mc):\n",
    "        z_j = Variable(torch.randn(1,latent_size,1,1).cuda(), requires_grad=True)\n",
    "        dfmat = dfdz(G2,z_j).to('cuda')\n",
    "        inp1 = torch.matmul(dfmat.T,(G2(z_j).view(-1)-G2(z_true).view(-1)))\n",
    "        inp2 = torch.matmul(inp1.T,z_j.squeeze()-z_true.squeeze())\n",
    "        cy1.append(inp2.detach().cpu().numpy())\n",
    "        normzdiff = torch.norm(z_j-z_true)**2\n",
    "        cy2.append(normzdiff.detach().cpu().numpy())"
   ]
  },
  {
   "cell_type": "code",
   "execution_count": null,
   "metadata": {},
   "outputs": [],
   "source": [
    "cyy = []\n",
    "cxx = []\n",
    "beta = 600\n",
    "alpha = 2\n",
    "for i in range(mc):\n",
    "    cyy.append(cy1[i])\n",
    "    cxx.append(alpha*cy2[i]- beta) "
   ]
  },
  {
   "cell_type": "code",
   "execution_count": null,
   "metadata": {},
   "outputs": [],
   "source": [
    "plt.scatter(cxx,cyy)\n",
    "plt.plot(cxx,cxx)\n",
    "plt.legend(['t1(ztrue,z)',str(alpha)+'*t2-'+str(beta)])\n",
    "plt.xlabel('t2(ztrue,z)')\n",
    "plt.title('DCGAN(CIFAR)')"
   ]
  },
  {
   "cell_type": "code",
   "execution_count": null,
   "metadata": {},
   "outputs": [],
   "source": [
    "if not loadfile:\n",
    "    cy3 = []\n",
    "    cy4 = []\n",
    "    latent_size = 100\n",
    "    for j in range(mc):\n",
    "        z_t = Variable(torch.randn(1,latent_size,1,1).cuda(), requires_grad=False)\n",
    "        z_j = Variable(torch.randn(1,latent_size,1,1).cuda(), requires_grad=True)\n",
    "        dfmat = dfdz(G2,z_j).to('cuda')\n",
    "        inp1 = torch.matmul(dfmat.T,(G2(z_j).view(-1)-G2(z_t).view(-1)))\n",
    "        inp2 = torch.matmul(inp1.T,z_j.squeeze()-z_t.squeeze())\n",
    "        cy3.append(inp2.detach().cpu().numpy())\n",
    "        normzdiff = torch.norm(z_j-z_t)**2\n",
    "        cy4.append(normzdiff.detach().cpu().numpy())"
   ]
  },
  {
   "cell_type": "code",
   "execution_count": null,
   "metadata": {},
   "outputs": [],
   "source": [
    "cyy = []\n",
    "cxx = []\n",
    "beta = 800\n",
    "alpha = 3\n",
    "for i in range(mc):\n",
    "    cyy.append(cy3[i])\n",
    "    cxx.append(alpha*cy4[i]- beta) "
   ]
  },
  {
   "cell_type": "code",
   "execution_count": null,
   "metadata": {},
   "outputs": [],
   "source": [
    "plt.scatter(cxx,cyy)\n",
    "plt.plot(cxx,cxx)\n",
    "plt.legend(['t1(z1,z2)',str(alpha)+'*t2-'+str(beta)])\n",
    "plt.xlabel('t2(z1,z2)')\n",
    "plt.title('DCGAN(CIFAR)')"
   ]
  },
  {
   "cell_type": "code",
   "execution_count": null,
   "metadata": {},
   "outputs": [],
   "source": [
    "if not loadfile:\n",
    "    plotvals = [y1,y2,y3,y4,cy1,cy2,cy3,cy4]\n",
    "    np.save('plotvals_500.npy',plotvals)"
   ]
  },
  {
   "cell_type": "markdown",
   "metadata": {},
   "source": [
    "# check the inequality for random matrix A appended to G, over T trials"
   ]
  },
  {
   "cell_type": "code",
   "execution_count": 30,
   "metadata": {},
   "outputs": [
    {
     "name": "stdout",
     "output_type": "stream",
     "text": [
      "dimension of each image:3072, number of samples per image:307\n"
     ]
    }
   ],
   "source": [
    "d = G2(z_true).nelement()\n",
    "n = int(0.1*d)\n",
    "print('dimension of each image:%d, number of samples per image:%d'%(d,n))"
   ]
  },
  {
   "cell_type": "code",
   "execution_count": 31,
   "metadata": {},
   "outputs": [
    {
     "name": "stdout",
     "output_type": "stream",
     "text": [
      "number of instances of sampling matrix A:5\n"
     ]
    }
   ],
   "source": [
    "T = 5\n",
    "print('number of instances of sampling matrix A:%d'%(T))"
   ]
  },
  {
   "cell_type": "code",
   "execution_count": 32,
   "metadata": {},
   "outputs": [],
   "source": [
    "#def forwardA\n",
    "def forwardA(x,A):\n",
    "    return torch.matmul(x.view(-1).type(dtype=torch.double),A.T)"
   ]
  },
  {
   "cell_type": "code",
   "execution_count": 33,
   "metadata": {},
   "outputs": [],
   "source": [
    "mc = 50\n",
    "#generate samples z\n",
    "batch_size = mc\n",
    "latent_size = 100\n",
    "z = Variable(torch.randn(batch_size,latent_size,1,1).cuda(), requires_grad=True)"
   ]
  },
  {
   "cell_type": "code",
   "execution_count": 34,
   "metadata": {},
   "outputs": [],
   "source": [
    "loadfileA = False"
   ]
  },
  {
   "cell_type": "code",
   "execution_count": 35,
   "metadata": {
    "scrolled": true
   },
   "outputs": [
    {
     "name": "stdout",
     "output_type": "stream",
     "text": [
      "1/5\n",
      "2/5\n",
      "3/5\n",
      "4/5\n",
      "5/5\n"
     ]
    }
   ],
   "source": [
    "if not loadfileA:\n",
    "    cy5 = []\n",
    "    cy6 = []\n",
    "    for k in range(T):\n",
    "        print('%d/%d'%(k+1,T))\n",
    "        A = torch.tensor(np.random.randn(n,d)/np.sqrt(n)).to('cuda')\n",
    "\n",
    "        for j in range(mc):\n",
    "            z_j = Variable(torch.randn(1,latent_size,1,1).cuda(), requires_grad=True)\n",
    "            dfmat = dfdz(G2,z_j).to('cuda')\n",
    "            Adfmat = torch.matmul(A,dfmat.type(dtype=torch.double))\n",
    "            AGdiff = forwardA((G2(z_j).view(-1)-G2(z_true).view(-1)),A)\n",
    "            inp1 = torch.matmul(Adfmat.T,AGdiff).type(dtype=torch.float)\n",
    "            inp2 = torch.matmul(inp1.T,z_j.squeeze()-z_true.squeeze())\n",
    "            cy5.append(inp2.detach().cpu().numpy())\n",
    "            normzdiff = torch.norm(z_j-z_true)**2\n",
    "            cy6.append(normzdiff.detach().cpu().numpy())"
   ]
  },
  {
   "cell_type": "code",
   "execution_count": 36,
   "metadata": {},
   "outputs": [],
   "source": [
    "cyy = []\n",
    "cxx = []\n",
    "beta = 450\n",
    "alpha = 2\n",
    "for i in range(mc*T):\n",
    "    cyy.append(cy5[i])\n",
    "    cxx.append(alpha*cy6[i]- beta) "
   ]
  },
  {
   "cell_type": "code",
   "execution_count": 37,
   "metadata": {},
   "outputs": [
    {
     "data": {
      "text/plain": [
       "Text(0.5, 1.0, 'DCGAN(CIFAR)')"
      ]
     },
     "execution_count": 37,
     "metadata": {},
     "output_type": "execute_result"
    },
    {
     "data": {
      "image/png": "[encoded data removed]",
      "text/plain": [
       "<Figure size 432x288 with 1 Axes>"
      ]
     },
     "metadata": {
      "needs_background": "light"
     },
     "output_type": "display_data"
    }
   ],
   "source": [
    "plt.scatter(cxx,cyy)\n",
    "plt.plot(cxx,cxx)\n",
    "plt.legend(['t3(ztrue,z)',str(alpha)+'*t2-'+str(beta)])\n",
    "plt.xlabel('t3(ztrue,z)')\n",
    "plt.title('DCGAN(CIFAR)')"
   ]
  },
  {
   "cell_type": "code",
   "execution_count": 38,
   "metadata": {},
   "outputs": [
    {
     "name": "stdout",
     "output_type": "stream",
     "text": [
      "1/5\n",
      "mc:1/50\n",
      "mc:2/50\n",
      "mc:3/50\n",
      "mc:4/50\n",
      "mc:5/50\n",
      "mc:6/50\n",
      "mc:7/50\n",
      "mc:8/50\n",
      "mc:9/50\n",
      "mc:10/50\n",
      "mc:11/50\n",
      "mc:12/50\n",
      "mc:13/50\n",
      "mc:14/50\n",
      "mc:15/50\n",
      "mc:16/50\n",
      "mc:17/50\n",
      "mc:18/50\n",
      "mc:19/50\n",
      "mc:20/50\n",
      "mc:21/50\n",
      "mc:22/50\n",
      "mc:23/50\n",
      "mc:24/50\n",
      "mc:25/50\n",
      "mc:26/50\n",
      "mc:27/50\n",
      "mc:28/50\n",
      "mc:29/50\n",
      "mc:30/50\n",
      "mc:31/50\n",
      "mc:32/50\n",
      "mc:33/50\n",
      "mc:34/50\n",
      "mc:35/50\n",
      "mc:36/50\n",
      "mc:37/50\n",
      "mc:38/50\n",
      "mc:39/50\n",
      "mc:40/50\n",
      "mc:41/50\n",
      "mc:42/50\n",
      "mc:43/50\n",
      "mc:44/50\n",
      "mc:45/50\n",
      "mc:46/50\n",
      "mc:47/50\n",
      "mc:48/50\n",
      "mc:49/50\n",
      "mc:50/50\n",
      "2/5\n",
      "mc:1/50\n",
      "mc:2/50\n",
      "mc:3/50\n",
      "mc:4/50\n",
      "mc:5/50\n",
      "mc:6/50\n",
      "mc:7/50\n",
      "mc:8/50\n",
      "mc:9/50\n",
      "mc:10/50\n",
      "mc:11/50\n",
      "mc:12/50\n",
      "mc:13/50\n",
      "mc:14/50\n",
      "mc:15/50\n",
      "mc:16/50\n",
      "mc:17/50\n",
      "mc:18/50\n",
      "mc:19/50\n",
      "mc:20/50\n",
      "mc:21/50\n",
      "mc:22/50\n",
      "mc:23/50\n",
      "mc:24/50\n",
      "mc:25/50\n",
      "mc:26/50\n",
      "mc:27/50\n",
      "mc:28/50\n",
      "mc:29/50\n",
      "mc:30/50\n",
      "mc:31/50\n",
      "mc:32/50\n",
      "mc:33/50\n",
      "mc:34/50\n",
      "mc:35/50\n",
      "mc:36/50\n",
      "mc:37/50\n",
      "mc:38/50\n",
      "mc:39/50\n",
      "mc:40/50\n",
      "mc:41/50\n",
      "mc:42/50\n",
      "mc:43/50\n",
      "mc:44/50\n",
      "mc:45/50\n",
      "mc:46/50\n",
      "mc:47/50\n",
      "mc:48/50\n",
      "mc:49/50\n",
      "mc:50/50\n",
      "3/5\n",
      "mc:1/50\n",
      "mc:2/50\n",
      "mc:3/50\n",
      "mc:4/50\n",
      "mc:5/50\n",
      "mc:6/50\n",
      "mc:7/50\n",
      "mc:8/50\n",
      "mc:9/50\n",
      "mc:10/50\n",
      "mc:11/50\n",
      "mc:12/50\n",
      "mc:13/50\n",
      "mc:14/50\n",
      "mc:15/50\n",
      "mc:16/50\n",
      "mc:17/50\n",
      "mc:18/50\n",
      "mc:19/50\n",
      "mc:20/50\n",
      "mc:21/50\n",
      "mc:22/50\n",
      "mc:23/50\n",
      "mc:24/50\n",
      "mc:25/50\n",
      "mc:26/50\n",
      "mc:27/50\n",
      "mc:28/50\n",
      "mc:29/50\n",
      "mc:30/50\n",
      "mc:31/50\n",
      "mc:32/50\n",
      "mc:33/50\n",
      "mc:34/50\n",
      "mc:35/50\n",
      "mc:36/50\n",
      "mc:37/50\n",
      "mc:38/50\n",
      "mc:39/50\n",
      "mc:40/50\n",
      "mc:41/50\n",
      "mc:42/50\n",
      "mc:43/50\n",
      "mc:44/50\n",
      "mc:45/50\n",
      "mc:46/50\n",
      "mc:47/50\n",
      "mc:48/50\n",
      "mc:49/50\n",
      "mc:50/50\n",
      "4/5\n",
      "mc:1/50\n",
      "mc:2/50\n",
      "mc:3/50\n",
      "mc:4/50\n",
      "mc:5/50\n",
      "mc:6/50\n",
      "mc:7/50\n",
      "mc:8/50\n",
      "mc:9/50\n",
      "mc:10/50\n",
      "mc:11/50\n",
      "mc:12/50\n",
      "mc:13/50\n",
      "mc:14/50\n",
      "mc:15/50\n",
      "mc:16/50\n",
      "mc:17/50\n",
      "mc:18/50\n",
      "mc:19/50\n",
      "mc:20/50\n",
      "mc:21/50\n",
      "mc:22/50\n",
      "mc:23/50\n",
      "mc:24/50\n",
      "mc:25/50\n",
      "mc:26/50\n",
      "mc:27/50\n",
      "mc:28/50\n",
      "mc:29/50\n",
      "mc:30/50\n",
      "mc:31/50\n",
      "mc:32/50\n",
      "mc:33/50\n",
      "mc:34/50\n",
      "mc:35/50\n",
      "mc:36/50\n",
      "mc:37/50\n",
      "mc:38/50\n",
      "mc:39/50\n",
      "mc:40/50\n",
      "mc:41/50\n",
      "mc:42/50\n",
      "mc:43/50\n",
      "mc:44/50\n",
      "mc:45/50\n",
      "mc:46/50\n",
      "mc:47/50\n",
      "mc:48/50\n",
      "mc:49/50\n",
      "mc:50/50\n",
      "5/5\n",
      "mc:1/50\n",
      "mc:2/50\n",
      "mc:3/50\n",
      "mc:4/50\n",
      "mc:5/50\n",
      "mc:6/50\n",
      "mc:7/50\n",
      "mc:8/50\n",
      "mc:9/50\n",
      "mc:10/50\n",
      "mc:11/50\n",
      "mc:12/50\n",
      "mc:13/50\n",
      "mc:14/50\n",
      "mc:15/50\n",
      "mc:16/50\n",
      "mc:17/50\n",
      "mc:18/50\n",
      "mc:19/50\n",
      "mc:20/50\n",
      "mc:21/50\n",
      "mc:22/50\n",
      "mc:23/50\n",
      "mc:24/50\n",
      "mc:25/50\n",
      "mc:26/50\n",
      "mc:27/50\n",
      "mc:28/50\n",
      "mc:29/50\n",
      "mc:30/50\n",
      "mc:31/50\n",
      "mc:32/50\n",
      "mc:33/50\n",
      "mc:34/50\n",
      "mc:35/50\n",
      "mc:36/50\n",
      "mc:37/50\n",
      "mc:38/50\n",
      "mc:39/50\n",
      "mc:40/50\n",
      "mc:41/50\n",
      "mc:42/50\n",
      "mc:43/50\n",
      "mc:44/50\n",
      "mc:45/50\n",
      "mc:46/50\n",
      "mc:47/50\n",
      "mc:48/50\n",
      "mc:49/50\n",
      "mc:50/50\n"
     ]
    }
   ],
   "source": [
    "if not loadfileA:\n",
    "    cy7 = []\n",
    "    cy8 = []\n",
    "    for k in range(T):\n",
    "        print('%d/%d'%(k+1,T))\n",
    "        A = torch.tensor(np.random.randn(n,d)/np.sqrt(n)).to('cuda')\n",
    "\n",
    "        for j in range(mc):\n",
    "            print('mc:%d/%d'%(j+1,mc))            \n",
    "            z_t = Variable(torch.randn(1,latent_size,1,1).cuda(), requires_grad=False)\n",
    "            z_j = Variable(torch.randn(1,latent_size,1,1).cuda(), requires_grad=True)\n",
    "            dfmat = dfdz(G2,z_j).to('cuda')\n",
    "            Adfmat = torch.matmul(A,dfmat.type(dtype=torch.double))\n",
    "            AGdiff = forwardA((G2(z_j).view(-1)-G2(z_t).view(-1)),A)\n",
    "            \n",
    "            inp1 = torch.matmul(Adfmat.T,AGdiff).type(dtype=torch.float)\n",
    "            inp2 = torch.matmul(inp1.T,z_j.squeeze()-z_t.squeeze())\n",
    "            cy7.append(inp2.detach().cpu().numpy())\n",
    "            normzdiff = torch.norm(z_j-z_t)**2\n",
    "            cy8.append(normzdiff.detach().cpu().numpy())"
   ]
  },
  {
   "cell_type": "code",
   "execution_count": 43,
   "metadata": {},
   "outputs": [],
   "source": [
    "cyy = []\n",
    "cxx = []\n",
    "beta = 500\n",
    "alpha = 2.5\n",
    "for i in range(mc):\n",
    "    cyy.append(cy7[i])\n",
    "    cxx.append(alpha*cy8[i]- beta) "
   ]
  },
  {
   "cell_type": "code",
   "execution_count": 44,
   "metadata": {},
   "outputs": [
    {
     "data": {
      "text/plain": [
       "Text(0.5, 1.0, 'DCGAN(CIFAR)')"
      ]
     },
     "execution_count": 44,
     "metadata": {},
     "output_type": "execute_result"
    },
    {
     "data": {
      "image/png": "[encoded data removed]",
      "text/plain": [
       "<Figure size 432x288 with 1 Axes>"
      ]
     },
     "metadata": {
      "needs_background": "light"
     },
     "output_type": "display_data"
    }
   ],
   "source": [
    "plt.scatter(cxx,cyy)\n",
    "plt.plot(cxx,cxx)\n",
    "plt.legend(['t3(z1,z2)',str(alpha)+'*t2-'+str(beta)])\n",
    "plt.xlabel('t3(z1,z2)')\n",
    "plt.title('DCGAN(CIFAR)')"
   ]
  },
  {
   "cell_type": "code",
   "execution_count": 41,
   "metadata": {},
   "outputs": [],
   "source": [
    "if not loadfileA:\n",
    "    plotvals = [cy5,cy6,cy7,cy8]\n",
    "    np.save('plotvalsA_cifar_250.npy',plotvals)"
   ]
  },
  {
   "cell_type": "code",
   "execution_count": 42,
   "metadata": {},
   "outputs": [],
   "source": [
    "if not loadfileA:\n",
    "    plotvals = [y5,y6,y7,y8,cy5,cy6,cy7,cy8]\n",
    "    np.save('plotvalsA_250.npy',plotvals)"
   ]
  },
  {
   "cell_type": "code",
   "execution_count": null,
   "metadata": {},
   "outputs": [],
   "source": []
  }
 ],
 "metadata": {
  "kernelspec": {
   "display_name": "Python 3",
   "language": "python",
   "name": "python3"
  },
  "language_info": {
   "codemirror_mode": {
    "name": "ipython",
    "version": 3
   },
   "file_extension": ".py",
   "mimetype": "text/x-python",
   "name": "python",
   "nbconvert_exporter": "python",
   "pygments_lexer": "ipython3",
   "version": "3.6.9"
  }
 },
 "nbformat": 4,
 "nbformat_minor": 2
}
