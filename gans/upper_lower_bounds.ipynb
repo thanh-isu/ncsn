{
 "cells": [
  {
   "cell_type": "markdown",
   "metadata": {},
   "source": [
    "## import libraries"
   ]
  },
  {
   "cell_type": "code",
   "execution_count": 1,
   "metadata": {},
   "outputs": [
    {
     "name": "stdout",
     "output_type": "stream",
     "text": [
      "num GPUs 1\n"
     ]
    }
   ],
   "source": [
    "import matplotlib.pyplot as plt\n",
    "import os\n",
    "from PIL import Image\n",
    "import PIL\n",
    "import pywt\n",
    "import numpy as np\n",
    "import torch\n",
    "import torch.optim\n",
    "from torch.autograd import Variable\n",
    "\n",
    "GPU = True\n",
    "if GPU == True:\n",
    "    torch.backends.cudnn.enabled = True\n",
    "    torch.backends.cudnn.benchmark = True\n",
    "    dtype = torch.cuda.FloatTensor\n",
    "    os.environ['CUDA_VISIBLE_DEVICES'] = '0'\n",
    "    print(\"num GPUs\",torch.cuda.device_count())\n",
    "    device = 'cuda'\n",
    "    if torch.cuda.device_count()==0:\n",
    "        dtype = torch.FloatTensor\n",
    "        device = 'cpu'\n",
    "else:\n",
    "    dtype = torch.FloatTensor\n",
    "    device = 'cpu'\n",
    "    \n",
    "from scipy.fftpack import dct\n",
    "from scipy.fftpack import idct\n",
    "from scipy import io as sio \n",
    "import time\n",
    "import scipy.io as sio\n",
    "import torchvision.transforms as transforms\n",
    "from torchvision.datasets import MNIST\n",
    "from torchvision.datasets import CIFAR10\n",
    "#from torchvision.datasets import CELEBA"
   ]
  },
  {
   "cell_type": "markdown",
   "metadata": {},
   "source": [
    "## load generator pre-trained mnist network"
   ]
  },
  {
   "cell_type": "code",
   "execution_count": 2,
   "metadata": {},
   "outputs": [],
   "source": [
    "#G\n",
    "from dcgan import Generator\n",
    "\n",
    "G = Generator(ngpu=1).eval()\n",
    "\n",
    "# load weights\n",
    "G.load_state_dict(torch.load('netG_epoch_99.pth'))\n",
    "if torch.cuda.is_available():\n",
    "    G = G.cuda()"
   ]
  },
  {
   "cell_type": "code",
   "execution_count": 3,
   "metadata": {},
   "outputs": [
    {
     "data": {
      "text/plain": [
       "<matplotlib.image.AxesImage at 0x7f11874af0f0>"
      ]
     },
     "execution_count": 3,
     "metadata": {},
     "output_type": "execute_result"
    },
    {
     "data": {
      "image/png": "[encoded data removed]",
      "text/plain": [
       "<Figure size 432x288 with 1 Axes>"
      ]
     },
     "metadata": {
      "needs_background": "light"
     },
     "output_type": "display_data"
    }
   ],
   "source": [
    "batch_size = 1\n",
    "latent_size = 100\n",
    "z_true = Variable(torch.randn(batch_size,latent_size,1,1).cuda(), requires_grad=False)\n",
    "x_true = G(z_true).cpu().detach().numpy().squeeze()\n",
    "plt.imshow(x_true,cmap=\"gray\")"
   ]
  },
  {
   "cell_type": "code",
   "execution_count": 4,
   "metadata": {},
   "outputs": [],
   "source": [
    "mc = 500\n",
    "#generate samples z\n",
    "batch_size = mc\n",
    "latent_size = 100\n",
    "z = Variable(torch.randn(batch_size,latent_size,1,1).cuda(), requires_grad=True)"
   ]
  },
  {
   "cell_type": "code",
   "execution_count": 5,
   "metadata": {},
   "outputs": [],
   "source": [
    "def dfdz(G,z):\n",
    "    f = G(z).view(-1)\n",
    "    k = z.view(-1).size()[0]\n",
    "    d = f.size()[0]\n",
    "    gradlist = torch.zeros([d,k],dtype=torch.float)\n",
    "    for i in range(d):\n",
    "        ff = f[i]\n",
    "        ff.backward(retain_graph=True)\n",
    "        gradlist[i,:] = z.grad.squeeze()\n",
    "        z.grad = torch.zeros_like(z.grad)\n",
    "    return gradlist # 784 \\times 100    "
   ]
  },
  {
   "cell_type": "code",
   "execution_count": 6,
   "metadata": {},
   "outputs": [],
   "source": [
    "def dfdz2(G,z):\n",
    "    k = z.view(-1).size()[0]\n",
    "    f = G(z).view(-1)\n",
    "    \n",
    "    d = f.size()[0]\n",
    "    gradlist = torch.zeros([d,k],dtype=torch.float)\n",
    "    for i in range(d):\n",
    "        f = G(z).view(-1)\n",
    "        ff = f[i]\n",
    "        ff.backward()#(retain_graph=True)\n",
    "        gradlist[i,:] = z.grad.squeeze()\n",
    "        z.grad = torch.zeros_like(z.grad)\n",
    "    return gradlist # 784 \\times 100    "
   ]
  },
  {
   "cell_type": "code",
   "execution_count": 7,
   "metadata": {},
   "outputs": [],
   "source": [
    "y1 = []\n",
    "y2 = []\n",
    "latent_size = 100\n",
    "for j in range(mc):\n",
    "    z_j = Variable(torch.randn(1,latent_size,1,1).cuda(), requires_grad=True)\n",
    "    dfmat = dfdz(G,z_j).to('cuda')\n",
    "    inp1 = torch.matmul(dfmat.T,(G(z_j).view(-1)-G(z_true).view(-1)))\n",
    "    inp2 = torch.matmul(inp1.T,z_j.squeeze()-z_true.squeeze())\n",
    "    y1.append(inp2.detach().cpu().numpy())\n",
    "    normzdiff = torch.norm(z_j-z_true)**2\n",
    "    y2.append(normzdiff.detach().cpu().numpy())"
   ]
  },
  {
   "cell_type": "code",
   "execution_count": 8,
   "metadata": {},
   "outputs": [],
   "source": [
    "yy = []\n",
    "xx = []\n",
    "beta = 800\n",
    "alpha = 2\n",
    "for i in range(mc):\n",
    "    yy.append(y1[i])\n",
    "    xx.append(alpha*y2[i]- beta) "
   ]
  },
  {
   "cell_type": "code",
   "execution_count": 9,
   "metadata": {},
   "outputs": [
    {
     "data": {
      "text/plain": [
       "[<matplotlib.lines.Line2D at 0x7f118677dcf8>]"
      ]
     },
     "execution_count": 9,
     "metadata": {},
     "output_type": "execute_result"
    },
    {
     "data": {
      "image/png": "[encoded data removed]",
      "text/plain": [
       "<Figure size 432x288 with 1 Axes>"
      ]
     },
     "metadata": {
      "needs_background": "light"
     },
     "output_type": "display_data"
    }
   ],
   "source": [
    "plt.scatter(xx,yy)\n",
    "plt.plot(xx,xx)"
   ]
  },
  {
   "cell_type": "code",
   "execution_count": null,
   "metadata": {},
   "outputs": [],
   "source": [
    "y3 = []\n",
    "y4 = []\n",
    "latent_size = 100\n",
    "for j in range(mc):\n",
    "    z_t = Variable(torch.randn(1,latent_size,1,1).cuda(), requires_grad=False)\n",
    "    z_j = Variable(torch.randn(1,latent_size,1,1).cuda(), requires_grad=True)\n",
    "    dfmat = dfdz(G,z_j).to('cuda')\n",
    "    inp1 = torch.matmul(dfmat.T,(G(z_j).view(-1)-G(z_t).view(-1)))\n",
    "    inp2 = torch.matmul(inp1.T,z_j.squeeze()-z_true.squeeze())\n",
    "    y3.append(inp2.detach().cpu().numpy())\n",
    "    normzdiff = torch.norm(z_j-z_true)**2\n",
    "    y4.append(normzdiff.detach().cpu().numpy())"
   ]
  },
  {
   "cell_type": "code",
   "execution_count": null,
   "metadata": {},
   "outputs": [],
   "source": [
    "yy = []\n",
    "xx = []\n",
    "beta = 1000\n",
    "alpha = 5\n",
    "for i in range(mc):\n",
    "    yy.append(y3[i])\n",
    "    xx.append(alpha*y4[i]- beta) "
   ]
  },
  {
   "cell_type": "code",
   "execution_count": null,
   "metadata": {},
   "outputs": [],
   "source": [
    "plt.scatter(xx,yy)\n",
    "plt.plot(xx,xx)"
   ]
  },
  {
   "cell_type": "markdown",
   "metadata": {},
   "source": [
    "# load generator pre-trained network for cifar"
   ]
  },
  {
   "cell_type": "code",
   "execution_count": 13,
   "metadata": {},
   "outputs": [],
   "source": [
    "#G\n",
    "from dcgan_cifar import Generator\n",
    "\n",
    "G = Generator(ngpu=1).eval()\n",
    "\n",
    "# load weights\n",
    "G.load_state_dict(torch.load('netG_epoch_199_cifar.pth'))\n",
    "if torch.cuda.is_available():\n",
    "    G = G.cuda()"
   ]
  },
  {
   "cell_type": "code",
   "execution_count": 14,
   "metadata": {},
   "outputs": [
    {
     "name": "stderr",
     "output_type": "stream",
     "text": [
      "Clipping input data to the valid range for imshow with RGB data ([0..1] for floats or [0..255] for integers).\n"
     ]
    },
    {
     "data": {
      "text/plain": [
       "<matplotlib.image.AxesImage at 0x7f1186658c18>"
      ]
     },
     "execution_count": 14,
     "metadata": {},
     "output_type": "execute_result"
    },
    {
     "data": {
      "image/png": "[encoded data removed]",
      "text/plain": [
       "<Figure size 432x288 with 1 Axes>"
      ]
     },
     "metadata": {
      "needs_background": "light"
     },
     "output_type": "display_data"
    }
   ],
   "source": [
    "batch_size = 1\n",
    "latent_size = 100\n",
    "z_true = Variable(torch.randn(batch_size,latent_size,1,1).cuda(), requires_grad=False)\n",
    "x_true = G(z_true).cpu().detach().numpy().squeeze()\n",
    "plt.imshow(x_true.transpose(1, 2, 0))"
   ]
  },
  {
   "cell_type": "code",
   "execution_count": 15,
   "metadata": {},
   "outputs": [],
   "source": [
    "mc = 500\n",
    "#generate samples z\n",
    "batch_size = mc\n",
    "latent_size = 100\n",
    "z = Variable(torch.randn(batch_size,latent_size,1,1).cuda(), requires_grad=True)"
   ]
  },
  {
   "cell_type": "code",
   "execution_count": 16,
   "metadata": {},
   "outputs": [],
   "source": [
    "cy1 = []\n",
    "cy2 = []\n",
    "latent_size = 100\n",
    "for j in range(mc):\n",
    "    z_j = Variable(torch.randn(1,latent_size,1,1).cuda(), requires_grad=True)\n",
    "    dfmat = dfdz(G,z_j).to('cuda')\n",
    "    inp1 = torch.matmul(dfmat.T,(G(z_j).view(-1)-G(z_true).view(-1)))\n",
    "    inp2 = torch.matmul(inp1.T,z_j.squeeze()-z_true.squeeze())\n",
    "    cy1.append(inp2.detach().cpu().numpy())\n",
    "    normzdiff = torch.norm(z_j-z_true)**2\n",
    "    cy2.append(normzdiff.detach().cpu().numpy())"
   ]
  },
  {
   "cell_type": "code",
   "execution_count": 17,
   "metadata": {},
   "outputs": [],
   "source": [
    "cyy = []\n",
    "cxx = []\n",
    "beta = 600\n",
    "alpha = 2\n",
    "for i in range(mc):\n",
    "    cyy.append(cy1[i])\n",
    "    cxx.append(alpha*cy2[i]- beta) "
   ]
  },
  {
   "cell_type": "code",
   "execution_count": 18,
   "metadata": {},
   "outputs": [
    {
     "data": {
      "text/plain": [
       "[<matplotlib.lines.Line2D at 0x7f118661c208>]"
      ]
     },
     "execution_count": 18,
     "metadata": {},
     "output_type": "execute_result"
    },
    {
     "data": {
      "image/png": "[encoded data removed]",
      "text/plain": [
       "<Figure size 432x288 with 1 Axes>"
      ]
     },
     "metadata": {
      "needs_background": "light"
     },
     "output_type": "display_data"
    }
   ],
   "source": [
    "plt.scatter(cxx,cyy)\n",
    "plt.plot(cxx,cxx)"
   ]
  },
  {
   "cell_type": "code",
   "execution_count": null,
   "metadata": {},
   "outputs": [],
   "source": [
    "cy3 = []\n",
    "cy4 = []\n",
    "latent_size = 100\n",
    "for j in range(mc):\n",
    "    z_t = Variable(torch.randn(1,latent_size,1,1).cuda(), requires_grad=False)\n",
    "    z_j = Variable(torch.randn(1,latent_size,1,1).cuda(), requires_grad=True)\n",
    "    dfmat = dfdz(G,z_j).to('cuda')\n",
    "    inp1 = torch.matmul(dfmat.T,(G(z_j).view(-1)-G(z_t).view(-1)))\n",
    "    inp2 = torch.matmul(inp1.T,z_j.squeeze()-z_true.squeeze())\n",
    "    cy3.append(inp2.detach().cpu().numpy())\n",
    "    normzdiff = torch.norm(z_j-z_true)**2\n",
    "    cy4.append(normzdiff.detach().cpu().numpy())"
   ]
  },
  {
   "cell_type": "code",
   "execution_count": null,
   "metadata": {},
   "outputs": [],
   "source": [
    "cyy = []\n",
    "cxx = []\n",
    "beta = 600\n",
    "alpha = 2\n",
    "for i in range(mc):\n",
    "    cyy.append(cy3[i])\n",
    "    cxx.append(alpha*cy4[i]- beta) "
   ]
  },
  {
   "cell_type": "code",
   "execution_count": null,
   "metadata": {},
   "outputs": [],
   "source": [
    "plt.scatter(cxx,cyy)\n",
    "plt.plot(cxx,cxx)"
   ]
  },
  {
   "cell_type": "code",
   "execution_count": null,
   "metadata": {},
   "outputs": [],
   "source": [
    "plotvals = [y1,y2,y3,y4,cy1,cy2,cy3,cy4]\n",
    "np.save('plotvals_500.npy',plotvals)"
   ]
  },
  {
   "cell_type": "code",
   "execution_count": null,
   "metadata": {},
   "outputs": [],
   "source": []
  }
 ],
 "metadata": {
  "kernelspec": {
   "display_name": "Python 3",
   "language": "python",
   "name": "python3"
  },
  "language_info": {
   "codemirror_mode": {
    "name": "ipython",
    "version": 3
   },
   "file_extension": ".py",
   "mimetype": "text/x-python",
   "name": "python",
   "nbconvert_exporter": "python",
   "pygments_lexer": "ipython3",
   "version": "3.6.9"
  }
 },
 "nbformat": 4,
 "nbformat_minor": 2
}
