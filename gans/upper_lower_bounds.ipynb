{
 "cells": [
  {
   "cell_type": "markdown",
   "metadata": {},
   "source": [
    "## import libraries"
   ]
  },
  {
   "cell_type": "code",
   "execution_count": 1,
   "metadata": {},
   "outputs": [
    {
     "name": "stdout",
     "output_type": "stream",
     "text": [
      "num GPUs 1\n"
     ]
    }
   ],
   "source": [
    "import matplotlib.pyplot as plt\n",
    "import os\n",
    "from PIL import Image\n",
    "import PIL\n",
    "import pywt\n",
    "import numpy as np\n",
    "import torch\n",
    "import torch.optim\n",
    "from torch.autograd import Variable\n",
    "\n",
    "GPU = True\n",
    "if GPU == True:\n",
    "    torch.backends.cudnn.enabled = True\n",
    "    torch.backends.cudnn.benchmark = True\n",
    "    dtype = torch.cuda.FloatTensor\n",
    "    os.environ['CUDA_VISIBLE_DEVICES'] = '0'\n",
    "    print(\"num GPUs\",torch.cuda.device_count())\n",
    "    device = 'cuda'\n",
    "    if torch.cuda.device_count()==0:\n",
    "        dtype = torch.FloatTensor\n",
    "        device = 'cpu'\n",
    "else:\n",
    "    dtype = torch.FloatTensor\n",
    "    device = 'cpu'\n",
    "    \n",
    "from scipy.fftpack import dct\n",
    "from scipy.fftpack import idct\n",
    "from scipy import io as sio \n",
    "import time\n",
    "import scipy.io as sio\n",
    "import torchvision.transforms as transforms\n",
    "from torchvision.datasets import MNIST\n",
    "from torchvision.datasets import CIFAR10\n",
    "#from torchvision.datasets import CELEBA"
   ]
  },
  {
   "cell_type": "markdown",
   "metadata": {},
   "source": [
    "# load previous experiment"
   ]
  },
  {
   "cell_type": "code",
   "execution_count": 2,
   "metadata": {},
   "outputs": [],
   "source": [
    "loadfile = True\n",
    "if loadfile:\n",
    "    plotvals_loaded = np.load('plotvals_500.npy')\n",
    "    [y1,y2,y3,y4,cy1,cy2,cy3,cy4] = plotvals_loaded"
   ]
  },
  {
   "cell_type": "markdown",
   "metadata": {},
   "source": [
    "## load generator pre-trained mnist network"
   ]
  },
  {
   "cell_type": "code",
   "execution_count": null,
   "metadata": {},
   "outputs": [],
   "source": [
    "from dcgan import Generator\n",
    "G1 = Generator(ngpu=1).eval()\n",
    "# load weights\n",
    "G1.load_state_dict(torch.load('netG_epoch_99.pth'))\n",
    "if torch.cuda.is_available():\n",
    "    G1 = G1.cuda()"
   ]
  },
  {
   "cell_type": "code",
   "execution_count": null,
   "metadata": {},
   "outputs": [],
   "source": [
    "batch_size = 1\n",
    "latent_size = 100\n",
    "z_true = Variable(torch.randn(batch_size,latent_size,1,1).cuda(), requires_grad=False)\n",
    "x_true = G1(z_true).cpu().detach().numpy().squeeze()\n",
    "plt.imshow(x_true,cmap=\"gray\")"
   ]
  },
  {
   "cell_type": "code",
   "execution_count": null,
   "metadata": {},
   "outputs": [],
   "source": [
    "mc = 500\n",
    "#generate samples z\n",
    "batch_size = mc\n",
    "latent_size = 100\n",
    "z = Variable(torch.randn(batch_size,latent_size,1,1).cuda(), requires_grad=True)"
   ]
  },
  {
   "cell_type": "code",
   "execution_count": null,
   "metadata": {},
   "outputs": [],
   "source": [
    "def dfdz(G,z):\n",
    "    f = G(z).view(-1)\n",
    "    k = z.view(-1).size()[0]\n",
    "    d = f.size()[0]\n",
    "    gradlist = torch.zeros([d,k],dtype=torch.float)\n",
    "    for i in range(d):\n",
    "        ff = f[i]\n",
    "        ff.backward(retain_graph=True)\n",
    "        gradlist[i,:] = z.grad.squeeze()\n",
    "        z.grad = torch.zeros_like(z.grad)\n",
    "    return gradlist # 784 \\times 100    "
   ]
  },
  {
   "cell_type": "code",
   "execution_count": null,
   "metadata": {},
   "outputs": [],
   "source": [
    "def dfdz2(G,z): #alternate way to compute gradients - appears to give similar values\n",
    "    k = z.view(-1).size()[0]\n",
    "    f = G(z).view(-1)\n",
    "    \n",
    "    d = f.size()[0]\n",
    "    gradlist = torch.zeros([d,k],dtype=torch.float)\n",
    "    for i in range(d):\n",
    "        f = G(z).view(-1)\n",
    "        ff = f[i]\n",
    "        ff.backward()#(retain_graph=True)\n",
    "        gradlist[i,:] = z.grad.squeeze()\n",
    "        z.grad = torch.zeros_like(z.grad)\n",
    "    return gradlist # 784 \\times 100    "
   ]
  },
  {
   "cell_type": "code",
   "execution_count": null,
   "metadata": {},
   "outputs": [],
   "source": [
    "if not loadfile:\n",
    "    y1 = []\n",
    "    y2 = []\n",
    "    latent_size = 100\n",
    "    for j in range(mc):\n",
    "        z_j = Variable(torch.randn(1,latent_size,1,1).cuda(), requires_grad=True)\n",
    "        dfmat = dfdz(G1,z_j).to('cuda')\n",
    "        inp1 = torch.matmul(dfmat.T,(G1(z_j).view(-1)-G1(z_true).view(-1)))\n",
    "        inp2 = torch.matmul(inp1.T,z_j.squeeze()-z_true.squeeze())\n",
    "        y1.append(inp2.detach().cpu().numpy())\n",
    "        normzdiff = torch.norm(z_j-z_true)**2\n",
    "        y2.append(normzdiff.detach().cpu().numpy())"
   ]
  },
  {
   "cell_type": "code",
   "execution_count": null,
   "metadata": {},
   "outputs": [],
   "source": [
    "yy = []\n",
    "xx = []\n",
    "beta = 800\n",
    "alpha = 2\n",
    "for i in range(mc):\n",
    "    yy.append(y1[i])\n",
    "    xx.append(alpha*y2[i]- beta) "
   ]
  },
  {
   "cell_type": "code",
   "execution_count": null,
   "metadata": {},
   "outputs": [],
   "source": [
    "plt.scatter(xx,yy)\n",
    "plt.plot(xx,xx)\n",
    "plt.legend(['t1(ztrue,z)',str(alpha)+'*t2-'+str(beta)])\n",
    "plt.xlabel('t2(ztrue,z)')\n",
    "plt.title('DCGAN(MNIST)')"
   ]
  },
  {
   "cell_type": "code",
   "execution_count": null,
   "metadata": {},
   "outputs": [],
   "source": [
    "if not loadfile:\n",
    "    y3 = []\n",
    "    y4 = []\n",
    "    latent_size = 100\n",
    "    for j in range(mc):\n",
    "        z_t = Variable(torch.randn(1,latent_size,1,1).cuda(), requires_grad=False)\n",
    "        z_j = Variable(torch.randn(1,latent_size,1,1).cuda(), requires_grad=True)\n",
    "        dfmat = dfdz(G1,z_j).to('cuda')\n",
    "        inp1 = torch.matmul(dfmat.T,(G1(z_j).view(-1)-G1(z_t).view(-1)))\n",
    "        inp2 = torch.matmul(inp1.T,z_j.squeeze()-z_true.squeeze())\n",
    "        y3.append(inp2.detach().cpu().numpy())\n",
    "        normzdiff = torch.norm(z_j-z_true)**2\n",
    "        y4.append(normzdiff.detach().cpu().numpy())"
   ]
  },
  {
   "cell_type": "code",
   "execution_count": null,
   "metadata": {},
   "outputs": [],
   "source": [
    "yy = []\n",
    "xx = []\n",
    "beta = 1200\n",
    "alpha = 2\n",
    "for i in range(mc):\n",
    "    yy.append(y3[i])\n",
    "    xx.append(alpha*y4[i]- beta) "
   ]
  },
  {
   "cell_type": "code",
   "execution_count": null,
   "metadata": {},
   "outputs": [],
   "source": [
    "plt.scatter(xx,yy)\n",
    "plt.plot(xx,xx)\n",
    "plt.legend(['t1(ztrue,z)',str(alpha)+'*t2-'+str(beta)])\n",
    "plt.xlabel('t2(ztrue,z)')\n",
    "plt.title('DCGAN(MNIST)')"
   ]
  },
  {
   "cell_type": "markdown",
   "metadata": {},
   "source": [
    "# load generator pre-trained network for cifar"
   ]
  },
  {
   "cell_type": "code",
   "execution_count": null,
   "metadata": {},
   "outputs": [],
   "source": [
    "from dcgan_cifar import Generator\n",
    "G2 = Generator(ngpu=1).eval()\n",
    "# load weights\n",
    "G2.load_state_dict(torch.load('netG_epoch_199_cifar.pth'))\n",
    "if torch.cuda.is_available():\n",
    "    G2 = G2.cuda()"
   ]
  },
  {
   "cell_type": "code",
   "execution_count": null,
   "metadata": {},
   "outputs": [],
   "source": [
    "batch_size = 1\n",
    "latent_size = 100\n",
    "z_true = Variable(torch.randn(batch_size,latent_size,1,1).cuda(), requires_grad=False)\n",
    "x_true = G2(z_true).cpu().detach().numpy().squeeze()\n",
    "plt.imshow(x_true.transpose(1, 2, 0))"
   ]
  },
  {
   "cell_type": "code",
   "execution_count": null,
   "metadata": {},
   "outputs": [],
   "source": [
    "mc = 500\n",
    "#generate samples z\n",
    "batch_size = mc\n",
    "latent_size = 100\n",
    "z = Variable(torch.randn(batch_size,latent_size,1,1).cuda(), requires_grad=True)"
   ]
  },
  {
   "cell_type": "code",
   "execution_count": null,
   "metadata": {},
   "outputs": [],
   "source": [
    "if not loadfile:\n",
    "    cy1 = []\n",
    "    cy2 = []\n",
    "    latent_size = 100\n",
    "    for j in range(mc):\n",
    "        z_j = Variable(torch.randn(1,latent_size,1,1).cuda(), requires_grad=True)\n",
    "        dfmat = dfdz(G2,z_j).to('cuda')\n",
    "        inp1 = torch.matmul(dfmat.T,(G2(z_j).view(-1)-G2(z_true).view(-1)))\n",
    "        inp2 = torch.matmul(inp1.T,z_j.squeeze()-z_true.squeeze())\n",
    "        cy1.append(inp2.detach().cpu().numpy())\n",
    "        normzdiff = torch.norm(z_j-z_true)**2\n",
    "        cy2.append(normzdiff.detach().cpu().numpy())"
   ]
  },
  {
   "cell_type": "code",
   "execution_count": null,
   "metadata": {},
   "outputs": [],
   "source": [
    "cyy = []\n",
    "cxx = []\n",
    "beta = 600\n",
    "alpha = 2\n",
    "for i in range(mc):\n",
    "    cyy.append(cy1[i])\n",
    "    cxx.append(alpha*cy2[i]- beta) "
   ]
  },
  {
   "cell_type": "code",
   "execution_count": null,
   "metadata": {},
   "outputs": [],
   "source": [
    "plt.scatter(cxx,cyy)\n",
    "plt.plot(cxx,cxx)\n",
    "plt.legend(['t1(ztrue,z)',str(alpha)+'*t2-'+str(beta)])\n",
    "plt.xlabel('t2(ztrue,z)')\n",
    "plt.title('DCGAN(CIFAR)')"
   ]
  },
  {
   "cell_type": "code",
   "execution_count": null,
   "metadata": {},
   "outputs": [],
   "source": [
    "if not loadfile:\n",
    "    cy3 = []\n",
    "    cy4 = []\n",
    "    latent_size = 100\n",
    "    for j in range(mc):\n",
    "        z_t = Variable(torch.randn(1,latent_size,1,1).cuda(), requires_grad=False)\n",
    "        z_j = Variable(torch.randn(1,latent_size,1,1).cuda(), requires_grad=True)\n",
    "        dfmat = dfdz(G2,z_j).to('cuda')\n",
    "        inp1 = torch.matmul(dfmat.T,(G2(z_j).view(-1)-G2(z_t).view(-1)))\n",
    "        inp2 = torch.matmul(inp1.T,z_j.squeeze()-z_true.squeeze())\n",
    "        cy3.append(inp2.detach().cpu().numpy())\n",
    "        normzdiff = torch.norm(z_j-z_true)**2\n",
    "        cy4.append(normzdiff.detach().cpu().numpy())"
   ]
  },
  {
   "cell_type": "code",
   "execution_count": null,
   "metadata": {},
   "outputs": [],
   "source": [
    "cyy = []\n",
    "cxx = []\n",
    "beta = 1250\n",
    "alpha = 3\n",
    "for i in range(mc):\n",
    "    cyy.append(cy3[i])\n",
    "    cxx.append(alpha*cy4[i]- beta) "
   ]
  },
  {
   "cell_type": "code",
   "execution_count": null,
   "metadata": {},
   "outputs": [],
   "source": [
    "plt.scatter(cxx,cyy)\n",
    "plt.plot(cxx,cxx)\n",
    "plt.legend(['t1(ztrue,z)',str(alpha)+'*t2-'+str(beta)])\n",
    "plt.xlabel('t2(ztrue,z)')\n",
    "plt.title('DCGAN(CIFAR)')"
   ]
  },
  {
   "cell_type": "code",
   "execution_count": null,
   "metadata": {},
   "outputs": [],
   "source": [
    "if not loadfile:\n",
    "    plotvals = [y1,y2,y3,y4,cy1,cy2,cy3,cy4]\n",
    "    np.save('plotvals_500.npy',plotvals)"
   ]
  }
 ],
 "metadata": {
  "kernelspec": {
   "display_name": "Python 3",
   "language": "python",
   "name": "python3"
  },
  "language_info": {
   "codemirror_mode": {
    "name": "ipython",
    "version": 3
   },
   "file_extension": ".py",
   "mimetype": "text/x-python",
   "name": "python",
   "nbconvert_exporter": "python",
   "pygments_lexer": "ipython3",
   "version": "3.6.9"
  }
 },
 "nbformat": 4,
 "nbformat_minor": 2
}
